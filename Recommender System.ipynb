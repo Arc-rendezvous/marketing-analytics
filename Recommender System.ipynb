{
 "cells": [
  {
   "cell_type": "markdown",
   "metadata": {},
   "source": [
    "<span style=\"font-size:36px\"><b>Recommender System</b></span>\n",
    "\n",
    "Copyright 2019 Gunawan Lumban Gaol, Mike Bratanata\n",
    "\n",
    "Licensed under the Apache License, Version 2.0 (the \"License\"); you may not use this file except in compliance with the License. You may obtain a copy of the License at http://www.apache.org/licenses/LICENSE-2.0\n",
    "\n",
    "Unless required by applicable law or agreed to in writing, software distributed under the License is distributed on an \"AS IS\" BASIS, WITHOUT WARRANTIES OR CONDITIONS OF ANY KIND, either express or implied. See the License for the specific language overning permissions and limitations under the License."
   ]
  },
  {
   "cell_type": "markdown",
   "metadata": {},
   "source": [
    "# Import Packages"
   ]
  },
  {
   "cell_type": "code",
   "execution_count": 1,
   "metadata": {
    "ExecuteTime": {
     "end_time": "2019-11-17T12:17:46.766250Z",
     "start_time": "2019-11-17T12:17:46.131250Z"
    }
   },
   "outputs": [],
   "source": [
    "import numpy as np\n",
    "import pandas as pd"
   ]
  },
  {
   "cell_type": "markdown",
   "metadata": {},
   "source": [
    "# Import Data\n",
    "\n",
    "Dataset from https://github.com/zygmuntz/goodbooks-10k. Recent version of Goodreads Book dataset."
   ]
  },
  {
   "cell_type": "code",
   "execution_count": 2,
   "metadata": {
    "ExecuteTime": {
     "end_time": "2019-11-17T12:17:46.776250Z",
     "start_time": "2019-11-17T12:17:46.770000Z"
    }
   },
   "outputs": [],
   "source": [
    "# ratings = pd.read_csv(\"https://raw.githubusercontent.com/zygmuntz/goodbooks-10k/master/ratings.csv\", encoding=\"latin1\")\n",
    "# books = pd.read_csv(\"https://raw.githubusercontent.com/zygmuntz/goodbooks-10k/master/books.csv\", encoding=\"latin1\")\n",
    "# book_tags = pd.read_csv(\"https://raw.githubusercontent.com/zygmuntz/goodbooks-10k/master/book_tags.csv\", encoding=\"latin1\")\n",
    "# tags = pd.read_csv(\"https://raw.githubusercontent.com/zygmuntz/goodbooks-10k/master/tags.csv\", encoding=\"latin1\")"
   ]
  },
  {
   "cell_type": "markdown",
   "metadata": {},
   "source": [
    "Locally saved the data files."
   ]
  },
  {
   "cell_type": "code",
   "execution_count": 3,
   "metadata": {
    "ExecuteTime": {
     "end_time": "2019-11-17T12:17:47.305000Z",
     "start_time": "2019-11-17T12:17:47.291250Z"
    }
   },
   "outputs": [],
   "source": [
    "# ratings.to_csv('dataset/ratings.csv', header=True, index=False, line_terminator='\\n', sep=',')\n",
    "# books.to_csv('dataset/books.csv', header=True, index=False, line_terminator='\\n', sep=',')\n",
    "# book_tags.to_csv('dataset/book_tags.csv', header=True, index=False, line_terminator='\\n', sep=',')\n",
    "# tags.to_csv('dataset/tags.csv', header=True, index=False, line_terminator='\\n', sep=',')"
   ]
  },
  {
   "cell_type": "markdown",
   "metadata": {},
   "source": [
    "Load saved dataset."
   ]
  },
  {
   "cell_type": "code",
   "execution_count": 4,
   "metadata": {
    "ExecuteTime": {
     "end_time": "2019-11-17T12:17:50.213750Z",
     "start_time": "2019-11-17T12:17:48.340000Z"
    }
   },
   "outputs": [],
   "source": [
    "ratings = pd.read_csv('dataset/ratings.csv')\n",
    "books = pd.read_csv('dataset/books.csv')\n",
    "book_tags = pd.read_csv('dataset/book_tags.csv')\n",
    "tags = pd.read_csv('dataset/tags.csv')"
   ]
  },
  {
   "cell_type": "code",
   "execution_count": 5,
   "metadata": {
    "ExecuteTime": {
     "end_time": "2019-11-17T12:17:50.713750Z",
     "start_time": "2019-11-17T12:17:50.670000Z"
    }
   },
   "outputs": [
    {
     "name": "stdout",
     "output_type": "stream",
     "text": [
      "(5976479, 3)\n",
      "(10000, 23)\n",
      "(999912, 3)\n",
      "(34252, 2)\n"
     ]
    }
   ],
   "source": [
    "print(ratings.shape)\n",
    "print(books.shape)\n",
    "print(book_tags.shape)\n",
    "print(tags.shape)"
   ]
  },
  {
   "cell_type": "markdown",
   "metadata": {},
   "source": [
    "# Collaborative Filtering\n",
    "\n",
    "* We have user each with rating vector $y^{(j)}$, each element correspond to the user rating for a product (book).\n",
    "* We want to predict what rating will the user give, for a product that hasn't yet been given rating from a user.\n",
    "\n",
    "**Objective**:\n",
    "\n",
    "For a user $j$ with parameters $\\theta^{(j)}$ and a movie with (learned) features $x^{(i)}$, predict a star rating of $(\\theta^{(j)})^Tx^{(i)}$ stars."
   ]
  },
  {
   "cell_type": "code",
   "execution_count": null,
   "metadata": {},
   "outputs": [],
   "source": []
  },
  {
   "cell_type": "markdown",
   "metadata": {},
   "source": [
    "# Content Based\n",
    "\n",
    "* We have a product (in this case a book) each with its own feature vector $x^{(i)}$\n",
    "* We have user each with rating vector $y^{(j)}$, each element correspond to the user rating for a product (book).\n",
    "* We want to predict what rating will the user give, for a product that hasn't yet been given rating from a user.\n",
    "\n",
    "**Objective**:\n",
    "\n",
    "For each user $j$, learn a parameter $\\theta^{(j)} \\epsilon R^{(n+1)}$, where $n$ is total number of a book features. Predict user $j$ as rating book $i$ with $(\\theta^{(j)})^Tx^{(i)}$ stars."
   ]
  },
  {
   "cell_type": "code",
   "execution_count": 495,
   "metadata": {
    "ExecuteTime": {
     "end_time": "2019-11-17T16:06:40.141250Z",
     "start_time": "2019-11-17T16:06:40.129250Z"
    }
   },
   "outputs": [],
   "source": [
    "# Import necessary packages\n",
    "from sklearn.preprocessing import MinMaxScaler\n",
    "\n",
    "# Function to compute cost function\n",
    "def compute_cost_cb(X, y, r, theta, C=1000):\n",
    "    \"\"\"\n",
    "    Take in a numpy array X,y, theta and generate the cost function\n",
    "    of using theta as parameter in a linear regression model with regularization parameter C\n",
    "    \"\"\"\n",
    "    y_r = y * r\n",
    "    predictions = X.dot(theta)\n",
    "    regularizations = C * np.sum(theta[1:]**2)\n",
    "    square_err = (predictions - y_r)**2\n",
    "    \n",
    "    return 0.5 * (np.sum(square_err) + regularizations)\n",
    "\n",
    "# Gradient descent function\n",
    "def gradient_descent(X, y, r, theta, C=1000, alpha=0.01, num_iters=1000):\n",
    "    \"\"\"\n",
    "    Take in numpy array X, y and theta and update theta by taking num_iters gradient steps\n",
    "    with learning rate of alpha\n",
    "    \n",
    "    return theta and the list of the cost of theta during each  iteration\n",
    "    \"\"\"\n",
    "    y_r = y * r\n",
    "    J_history=[]\n",
    "    \n",
    "    for i in range(num_iters):\n",
    "        predictions = X.dot(theta)\n",
    "        error = np.dot(X.transpose(), (predictions - y_r))\n",
    "        error[1:] = error[1:] + C * theta[1:]\n",
    "        descent = alpha * error\n",
    "        theta -= descent\n",
    "        J_history.append(compute_cost_cb(X, y, r, theta))\n",
    "    \n",
    "    return theta, J_history"
   ]
  },
  {
   "cell_type": "code",
   "execution_count": 496,
   "metadata": {
    "ExecuteTime": {
     "end_time": "2019-11-17T16:06:42.676250Z",
     "start_time": "2019-11-17T16:06:40.325250Z"
    }
   },
   "outputs": [
    {
     "data": {
      "text/html": [
       "<div>\n",
       "<style scoped>\n",
       "    .dataframe tbody tr th:only-of-type {\n",
       "        vertical-align: middle;\n",
       "    }\n",
       "\n",
       "    .dataframe tbody tr th {\n",
       "        vertical-align: top;\n",
       "    }\n",
       "\n",
       "    .dataframe thead th {\n",
       "        text-align: right;\n",
       "    }\n",
       "</style>\n",
       "<table border=\"1\" class=\"dataframe\">\n",
       "  <thead>\n",
       "    <tr style=\"text-align: right;\">\n",
       "      <th>user_id</th>\n",
       "      <th>1</th>\n",
       "      <th>2</th>\n",
       "      <th>3</th>\n",
       "      <th>4</th>\n",
       "      <th>5</th>\n",
       "      <th>6</th>\n",
       "      <th>7</th>\n",
       "      <th>8</th>\n",
       "      <th>9</th>\n",
       "      <th>10</th>\n",
       "      <th>...</th>\n",
       "      <th>53414</th>\n",
       "      <th>53415</th>\n",
       "      <th>53417</th>\n",
       "      <th>53418</th>\n",
       "      <th>53419</th>\n",
       "      <th>53420</th>\n",
       "      <th>53421</th>\n",
       "      <th>53422</th>\n",
       "      <th>53423</th>\n",
       "      <th>53424</th>\n",
       "    </tr>\n",
       "    <tr>\n",
       "      <th>book_id</th>\n",
       "      <th></th>\n",
       "      <th></th>\n",
       "      <th></th>\n",
       "      <th></th>\n",
       "      <th></th>\n",
       "      <th></th>\n",
       "      <th></th>\n",
       "      <th></th>\n",
       "      <th></th>\n",
       "      <th></th>\n",
       "      <th></th>\n",
       "      <th></th>\n",
       "      <th></th>\n",
       "      <th></th>\n",
       "      <th></th>\n",
       "      <th></th>\n",
       "      <th></th>\n",
       "      <th></th>\n",
       "      <th></th>\n",
       "      <th></th>\n",
       "      <th></th>\n",
       "    </tr>\n",
       "  </thead>\n",
       "  <tbody>\n",
       "    <tr>\n",
       "      <th>1</th>\n",
       "      <td>NaN</td>\n",
       "      <td>NaN</td>\n",
       "      <td>NaN</td>\n",
       "      <td>NaN</td>\n",
       "      <td>NaN</td>\n",
       "      <td>NaN</td>\n",
       "      <td>NaN</td>\n",
       "      <td>NaN</td>\n",
       "      <td>4.0</td>\n",
       "      <td>NaN</td>\n",
       "      <td>...</td>\n",
       "      <td>3.0</td>\n",
       "      <td>NaN</td>\n",
       "      <td>4.0</td>\n",
       "      <td>5.0</td>\n",
       "      <td>4.0</td>\n",
       "      <td>4.0</td>\n",
       "      <td>4.0</td>\n",
       "      <td>4.0</td>\n",
       "      <td>4.0</td>\n",
       "      <td>4.0</td>\n",
       "    </tr>\n",
       "    <tr>\n",
       "      <th>2</th>\n",
       "      <td>NaN</td>\n",
       "      <td>5.0</td>\n",
       "      <td>NaN</td>\n",
       "      <td>5.0</td>\n",
       "      <td>NaN</td>\n",
       "      <td>NaN</td>\n",
       "      <td>NaN</td>\n",
       "      <td>NaN</td>\n",
       "      <td>4.0</td>\n",
       "      <td>NaN</td>\n",
       "      <td>...</td>\n",
       "      <td>4.0</td>\n",
       "      <td>NaN</td>\n",
       "      <td>NaN</td>\n",
       "      <td>NaN</td>\n",
       "      <td>5.0</td>\n",
       "      <td>5.0</td>\n",
       "      <td>5.0</td>\n",
       "      <td>5.0</td>\n",
       "      <td>5.0</td>\n",
       "      <td>5.0</td>\n",
       "    </tr>\n",
       "    <tr>\n",
       "      <th>3</th>\n",
       "      <td>NaN</td>\n",
       "      <td>NaN</td>\n",
       "      <td>NaN</td>\n",
       "      <td>NaN</td>\n",
       "      <td>NaN</td>\n",
       "      <td>NaN</td>\n",
       "      <td>NaN</td>\n",
       "      <td>NaN</td>\n",
       "      <td>4.0</td>\n",
       "      <td>NaN</td>\n",
       "      <td>...</td>\n",
       "      <td>2.0</td>\n",
       "      <td>NaN</td>\n",
       "      <td>NaN</td>\n",
       "      <td>NaN</td>\n",
       "      <td>3.0</td>\n",
       "      <td>3.0</td>\n",
       "      <td>NaN</td>\n",
       "      <td>NaN</td>\n",
       "      <td>NaN</td>\n",
       "      <td>4.0</td>\n",
       "    </tr>\n",
       "    <tr>\n",
       "      <th>4</th>\n",
       "      <td>5.0</td>\n",
       "      <td>NaN</td>\n",
       "      <td>3.0</td>\n",
       "      <td>4.0</td>\n",
       "      <td>NaN</td>\n",
       "      <td>NaN</td>\n",
       "      <td>NaN</td>\n",
       "      <td>3.0</td>\n",
       "      <td>NaN</td>\n",
       "      <td>5.0</td>\n",
       "      <td>...</td>\n",
       "      <td>NaN</td>\n",
       "      <td>NaN</td>\n",
       "      <td>NaN</td>\n",
       "      <td>NaN</td>\n",
       "      <td>3.0</td>\n",
       "      <td>NaN</td>\n",
       "      <td>5.0</td>\n",
       "      <td>NaN</td>\n",
       "      <td>5.0</td>\n",
       "      <td>5.0</td>\n",
       "    </tr>\n",
       "    <tr>\n",
       "      <th>5</th>\n",
       "      <td>NaN</td>\n",
       "      <td>5.0</td>\n",
       "      <td>NaN</td>\n",
       "      <td>4.0</td>\n",
       "      <td>NaN</td>\n",
       "      <td>NaN</td>\n",
       "      <td>3.0</td>\n",
       "      <td>3.0</td>\n",
       "      <td>5.0</td>\n",
       "      <td>5.0</td>\n",
       "      <td>...</td>\n",
       "      <td>NaN</td>\n",
       "      <td>NaN</td>\n",
       "      <td>NaN</td>\n",
       "      <td>NaN</td>\n",
       "      <td>3.0</td>\n",
       "      <td>2.0</td>\n",
       "      <td>4.0</td>\n",
       "      <td>NaN</td>\n",
       "      <td>NaN</td>\n",
       "      <td>NaN</td>\n",
       "    </tr>\n",
       "  </tbody>\n",
       "</table>\n",
       "<p>5 rows × 52887 columns</p>\n",
       "</div>"
      ],
      "text/plain": [
       "user_id  1      2      3      4      5      6      7      8      9      10     \\\n",
       "book_id                                                                         \n",
       "1          NaN    NaN    NaN    NaN    NaN    NaN    NaN    NaN    4.0    NaN   \n",
       "2          NaN    5.0    NaN    5.0    NaN    NaN    NaN    NaN    4.0    NaN   \n",
       "3          NaN    NaN    NaN    NaN    NaN    NaN    NaN    NaN    4.0    NaN   \n",
       "4          5.0    NaN    3.0    4.0    NaN    NaN    NaN    3.0    NaN    5.0   \n",
       "5          NaN    5.0    NaN    4.0    NaN    NaN    3.0    3.0    5.0    5.0   \n",
       "\n",
       "user_id  ...  53414  53415  53417  53418  53419  53420  53421  53422  53423  \\\n",
       "book_id  ...                                                                  \n",
       "1        ...    3.0    NaN    4.0    5.0    4.0    4.0    4.0    4.0    4.0   \n",
       "2        ...    4.0    NaN    NaN    NaN    5.0    5.0    5.0    5.0    5.0   \n",
       "3        ...    2.0    NaN    NaN    NaN    3.0    3.0    NaN    NaN    NaN   \n",
       "4        ...    NaN    NaN    NaN    NaN    3.0    NaN    5.0    NaN    5.0   \n",
       "5        ...    NaN    NaN    NaN    NaN    3.0    2.0    4.0    NaN    NaN   \n",
       "\n",
       "user_id  53424  \n",
       "book_id         \n",
       "1          4.0  \n",
       "2          5.0  \n",
       "3          4.0  \n",
       "4          5.0  \n",
       "5          NaN  \n",
       "\n",
       "[5 rows x 52887 columns]"
      ]
     },
     "execution_count": 496,
     "metadata": {},
     "output_type": "execute_result"
    }
   ],
   "source": [
    "# Sample only a few books because of performance issue\n",
    "sample_book_id = np.arange(100) + 1\n",
    "Y = ratings[ratings['book_id'].isin(sample_book_id)].pivot(index='book_id', columns='user_id', values='rating')\n",
    "Y.head()"
   ]
  },
  {
   "cell_type": "code",
   "execution_count": 497,
   "metadata": {
    "ExecuteTime": {
     "end_time": "2019-11-17T16:06:43.291250Z",
     "start_time": "2019-11-17T16:06:43.281250Z"
    }
   },
   "outputs": [],
   "source": [
    "# Sample books and select relevant features, then perform MinMaxScaler on the features\n",
    "X = books.head(len(sample_book_id))[['books_count', 'ratings_count', 'average_rating', 'work_ratings_count']]\n",
    "scaler = MinMaxScaler()\n",
    "scaler.fit(X)\n",
    "X = scaler.transform(X)"
   ]
  },
  {
   "cell_type": "markdown",
   "metadata": {},
   "source": [
    "Consider only one user, with ID 53412."
   ]
  },
  {
   "cell_type": "code",
   "execution_count": 498,
   "metadata": {
    "ExecuteTime": {
     "end_time": "2019-11-17T16:06:44.499250Z",
     "start_time": "2019-11-17T16:06:44.490250Z"
    }
   },
   "outputs": [],
   "source": [
    "# Initialization\n",
    "y = Y[53412]\n",
    "r = (~y.isnull()).values # list of 1 and 0, 1 if user already rated the book\n",
    "y = y.fillna(0).values\n",
    "theta = np.random.rand(X.shape[1]+1)\n",
    "\n",
    "# Adding bias column term\n",
    "bias = np.ones(shape=(X.shape[0], X.shape[1]+1))\n",
    "bias[:, 1:] = X\n",
    "X = bias"
   ]
  },
  {
   "cell_type": "markdown",
   "metadata": {},
   "source": [
    "Learn the parameter vector for user with ID 53412."
   ]
  },
  {
   "cell_type": "code",
   "execution_count": 499,
   "metadata": {
    "ExecuteTime": {
     "end_time": "2019-11-17T16:06:45.575250Z",
     "start_time": "2019-11-17T16:06:45.519250Z"
    }
   },
   "outputs": [],
   "source": [
    "theta, J_history = gradient_descent(X, y, r, theta, 10, 0.01, 1000)"
   ]
  },
  {
   "cell_type": "markdown",
   "metadata": {},
   "source": [
    "Generate predictions for unrated books."
   ]
  },
  {
   "cell_type": "code",
   "execution_count": 500,
   "metadata": {
    "ExecuteTime": {
     "end_time": "2019-11-17T16:06:46.060250Z",
     "start_time": "2019-11-17T16:06:46.048250Z"
    }
   },
   "outputs": [],
   "source": [
    "preds = np.dot(theta, X.T) * ~r"
   ]
  },
  {
   "cell_type": "markdown",
   "metadata": {},
   "source": [
    "Sort the recommendation based on highest predicted ratings. Show only top 20 recommendations."
   ]
  },
  {
   "cell_type": "code",
   "execution_count": 501,
   "metadata": {
    "ExecuteTime": {
     "end_time": "2019-11-17T16:06:46.566250Z",
     "start_time": "2019-11-17T16:06:46.541250Z"
    }
   },
   "outputs": [
    {
     "data": {
      "text/html": [
       "<div>\n",
       "<style scoped>\n",
       "    .dataframe tbody tr th:only-of-type {\n",
       "        vertical-align: middle;\n",
       "    }\n",
       "\n",
       "    .dataframe tbody tr th {\n",
       "        vertical-align: top;\n",
       "    }\n",
       "\n",
       "    .dataframe thead th {\n",
       "        text-align: right;\n",
       "    }\n",
       "</style>\n",
       "<table border=\"1\" class=\"dataframe\">\n",
       "  <thead>\n",
       "    <tr style=\"text-align: right;\">\n",
       "      <th></th>\n",
       "      <th>book_id</th>\n",
       "      <th>title</th>\n",
       "      <th>predicted_rating</th>\n",
       "    </tr>\n",
       "  </thead>\n",
       "  <tbody>\n",
       "    <tr>\n",
       "      <th>0</th>\n",
       "      <td>1</td>\n",
       "      <td>The Hunger Games (The Hunger Games, #1)</td>\n",
       "      <td>2.517208</td>\n",
       "    </tr>\n",
       "    <tr>\n",
       "      <th>5</th>\n",
       "      <td>6</td>\n",
       "      <td>The Fault in Our Stars</td>\n",
       "      <td>1.642309</td>\n",
       "    </tr>\n",
       "    <tr>\n",
       "      <th>42</th>\n",
       "      <td>43</td>\n",
       "      <td>Jane Eyre</td>\n",
       "      <td>1.565359</td>\n",
       "    </tr>\n",
       "    <tr>\n",
       "      <th>11</th>\n",
       "      <td>12</td>\n",
       "      <td>Divergent (Divergent, #1)</td>\n",
       "      <td>1.512678</td>\n",
       "    </tr>\n",
       "    <tr>\n",
       "      <th>14</th>\n",
       "      <td>15</td>\n",
       "      <td>The Diary of a Young Girl</td>\n",
       "      <td>1.506652</td>\n",
       "    </tr>\n",
       "    <tr>\n",
       "      <th>16</th>\n",
       "      <td>17</td>\n",
       "      <td>Catching Fire (The Hunger Games, #2)</td>\n",
       "      <td>1.487350</td>\n",
       "    </tr>\n",
       "    <tr>\n",
       "      <th>10</th>\n",
       "      <td>11</td>\n",
       "      <td>The Kite Runner</td>\n",
       "      <td>1.459469</td>\n",
       "    </tr>\n",
       "    <tr>\n",
       "      <th>30</th>\n",
       "      <td>31</td>\n",
       "      <td>The Help</td>\n",
       "      <td>1.439627</td>\n",
       "    </tr>\n",
       "    <tr>\n",
       "      <th>28</th>\n",
       "      <td>29</td>\n",
       "      <td>Romeo and Juliet</td>\n",
       "      <td>1.419120</td>\n",
       "    </tr>\n",
       "    <tr>\n",
       "      <th>13</th>\n",
       "      <td>14</td>\n",
       "      <td>Animal Farm</td>\n",
       "      <td>1.406018</td>\n",
       "    </tr>\n",
       "    <tr>\n",
       "      <th>41</th>\n",
       "      <td>42</td>\n",
       "      <td>Little Women (Little Women, #1)</td>\n",
       "      <td>1.405386</td>\n",
       "    </tr>\n",
       "    <tr>\n",
       "      <th>15</th>\n",
       "      <td>16</td>\n",
       "      <td>The Girl with the Dragon Tattoo (Millennium, #1)</td>\n",
       "      <td>1.394630</td>\n",
       "    </tr>\n",
       "    <tr>\n",
       "      <th>38</th>\n",
       "      <td>39</td>\n",
       "      <td>A Game of Thrones (A Song of Ice and Fire, #1)</td>\n",
       "      <td>1.363043</td>\n",
       "    </tr>\n",
       "    <tr>\n",
       "      <th>79</th>\n",
       "      <td>80</td>\n",
       "      <td>The Little Prince</td>\n",
       "      <td>1.356527</td>\n",
       "    </tr>\n",
       "    <tr>\n",
       "      <th>8</th>\n",
       "      <td>9</td>\n",
       "      <td>Angels &amp; Demons  (Robert Langdon, #1)</td>\n",
       "      <td>1.333706</td>\n",
       "    </tr>\n",
       "    <tr>\n",
       "      <th>7</th>\n",
       "      <td>8</td>\n",
       "      <td>The Catcher in the Rye</td>\n",
       "      <td>1.327584</td>\n",
       "    </tr>\n",
       "    <tr>\n",
       "      <th>19</th>\n",
       "      <td>20</td>\n",
       "      <td>Mockingjay (The Hunger Games, #3)</td>\n",
       "      <td>1.325701</td>\n",
       "    </tr>\n",
       "    <tr>\n",
       "      <th>62</th>\n",
       "      <td>63</td>\n",
       "      <td>Wuthering Heights</td>\n",
       "      <td>1.320690</td>\n",
       "    </tr>\n",
       "    <tr>\n",
       "      <th>94</th>\n",
       "      <td>95</td>\n",
       "      <td>The Picture of Dorian Gray</td>\n",
       "      <td>1.294972</td>\n",
       "    </tr>\n",
       "    <tr>\n",
       "      <th>46</th>\n",
       "      <td>47</td>\n",
       "      <td>The Book Thief</td>\n",
       "      <td>1.292250</td>\n",
       "    </tr>\n",
       "  </tbody>\n",
       "</table>\n",
       "</div>"
      ],
      "text/plain": [
       "    book_id                                             title  \\\n",
       "0         1           The Hunger Games (The Hunger Games, #1)   \n",
       "5         6                            The Fault in Our Stars   \n",
       "42       43                                         Jane Eyre   \n",
       "11       12                         Divergent (Divergent, #1)   \n",
       "14       15                         The Diary of a Young Girl   \n",
       "16       17              Catching Fire (The Hunger Games, #2)   \n",
       "10       11                                   The Kite Runner   \n",
       "30       31                                          The Help   \n",
       "28       29                                  Romeo and Juliet   \n",
       "13       14                                       Animal Farm   \n",
       "41       42                   Little Women (Little Women, #1)   \n",
       "15       16  The Girl with the Dragon Tattoo (Millennium, #1)   \n",
       "38       39    A Game of Thrones (A Song of Ice and Fire, #1)   \n",
       "79       80                                 The Little Prince   \n",
       "8         9             Angels & Demons  (Robert Langdon, #1)   \n",
       "7         8                            The Catcher in the Rye   \n",
       "19       20                 Mockingjay (The Hunger Games, #3)   \n",
       "62       63                                 Wuthering Heights   \n",
       "94       95                        The Picture of Dorian Gray   \n",
       "46       47                                    The Book Thief   \n",
       "\n",
       "    predicted_rating  \n",
       "0           2.517208  \n",
       "5           1.642309  \n",
       "42          1.565359  \n",
       "11          1.512678  \n",
       "14          1.506652  \n",
       "16          1.487350  \n",
       "10          1.459469  \n",
       "30          1.439627  \n",
       "28          1.419120  \n",
       "13          1.406018  \n",
       "41          1.405386  \n",
       "15          1.394630  \n",
       "38          1.363043  \n",
       "79          1.356527  \n",
       "8           1.333706  \n",
       "7           1.327584  \n",
       "19          1.325701  \n",
       "62          1.320690  \n",
       "94          1.294972  \n",
       "46          1.292250  "
      ]
     },
     "execution_count": 501,
     "metadata": {},
     "output_type": "execute_result"
    }
   ],
   "source": [
    "show = books.head(len(preds))[['book_id', 'title']].copy()\n",
    "show['predicted_rating'] = preds\n",
    "show.sort_values(by='predicted_rating', ascending=False).head(20)"
   ]
  },
  {
   "cell_type": "markdown",
   "metadata": {},
   "source": [
    "# Hybrid"
   ]
  },
  {
   "cell_type": "code",
   "execution_count": null,
   "metadata": {},
   "outputs": [],
   "source": []
  }
 ],
 "metadata": {
  "hide_input": false,
  "kernelspec": {
   "display_name": "Python 3",
   "language": "python",
   "name": "python3"
  },
  "language_info": {
   "codemirror_mode": {
    "name": "ipython",
    "version": 3
   },
   "file_extension": ".py",
   "mimetype": "text/x-python",
   "name": "python",
   "nbconvert_exporter": "python",
   "pygments_lexer": "ipython3",
   "version": "3.7.3"
  },
  "toc": {
   "base_numbering": 1,
   "nav_menu": {},
   "number_sections": true,
   "sideBar": true,
   "skip_h1_title": false,
   "title_cell": "Table of Contents",
   "title_sidebar": "Contents",
   "toc_cell": false,
   "toc_position": {},
   "toc_section_display": true,
   "toc_window_display": true
  }
 },
 "nbformat": 4,
 "nbformat_minor": 2
}
